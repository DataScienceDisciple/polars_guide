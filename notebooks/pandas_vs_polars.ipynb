{
 "cells": [
  {
   "cell_type": "code",
   "execution_count": 1,
   "metadata": {
    "collapsed": true
   },
   "outputs": [],
   "source": [
    "import pandas as pd\n",
    "import polars as pl"
   ]
  },
  {
   "cell_type": "code",
   "execution_count": 2,
   "metadata": {},
   "outputs": [],
   "source": [
    "path = \"../data/legislators-historical.csv\""
   ]
  },
  {
   "cell_type": "markdown",
   "metadata": {},
   "source": [
    "## Pandas groupby"
   ]
  },
  {
   "cell_type": "code",
   "execution_count": 34,
   "metadata": {},
   "outputs": [],
   "source": [
    "df = pd.read_csv(path)"
   ]
  },
  {
   "cell_type": "code",
   "execution_count": 51,
   "metadata": {},
   "outputs": [],
   "source": [
    "groupby_pandas = (df\n",
    "                    .groupby(['first_name', 'party'])['last_name']\n",
    "                    .agg(['count'])\n",
    "                    .sort_values('count', ascending=False)\n",
    "                    .head()\n",
    "                 )"
   ]
  },
  {
   "cell_type": "code",
   "execution_count": 60,
   "metadata": {},
   "outputs": [
    {
     "data": {
      "text/html": [
       "<div>\n",
       "<style scoped>\n",
       "    .dataframe tbody tr th:only-of-type {\n",
       "        vertical-align: middle;\n",
       "    }\n",
       "\n",
       "    .dataframe tbody tr th {\n",
       "        vertical-align: top;\n",
       "    }\n",
       "\n",
       "    .dataframe thead th {\n",
       "        text-align: right;\n",
       "    }\n",
       "</style>\n",
       "<table border=\"1\" class=\"dataframe\">\n",
       "  <thead>\n",
       "    <tr style=\"text-align: right;\">\n",
       "      <th></th>\n",
       "      <th></th>\n",
       "      <th>count</th>\n",
       "    </tr>\n",
       "    <tr>\n",
       "      <th>first_name</th>\n",
       "      <th>party</th>\n",
       "      <th></th>\n",
       "    </tr>\n",
       "  </thead>\n",
       "  <tbody>\n",
       "    <tr>\n",
       "      <th rowspan=\"2\" valign=\"top\">John</th>\n",
       "      <th>Democrat</th>\n",
       "      <td>526</td>\n",
       "    </tr>\n",
       "    <tr>\n",
       "      <th>Republican</th>\n",
       "      <td>467</td>\n",
       "    </tr>\n",
       "    <tr>\n",
       "      <th rowspan=\"2\" valign=\"top\">William</th>\n",
       "      <th>Democrat</th>\n",
       "      <td>429</td>\n",
       "    </tr>\n",
       "    <tr>\n",
       "      <th>Republican</th>\n",
       "      <td>394</td>\n",
       "    </tr>\n",
       "    <tr>\n",
       "      <th>James</th>\n",
       "      <th>Democrat</th>\n",
       "      <td>339</td>\n",
       "    </tr>\n",
       "  </tbody>\n",
       "</table>\n",
       "</div>"
      ],
      "text/plain": [
       "                       count\n",
       "first_name party            \n",
       "John       Democrat      526\n",
       "           Republican    467\n",
       "William    Democrat      429\n",
       "           Republican    394\n",
       "James      Democrat      339"
      ]
     },
     "execution_count": 60,
     "metadata": {},
     "output_type": "execute_result"
    }
   ],
   "source": [
    "groupby_pandas"
   ]
  },
  {
   "cell_type": "code",
   "execution_count": 61,
   "metadata": {},
   "outputs": [
    {
     "data": {
      "text/plain": [
       "MultiIndex([(   'John',   'Democrat'),\n",
       "            (   'John', 'Republican'),\n",
       "            ('William',   'Democrat'),\n",
       "            ('William', 'Republican'),\n",
       "            (  'James',   'Democrat')],\n",
       "           names=['first_name', 'party'])"
      ]
     },
     "execution_count": 61,
     "metadata": {},
     "output_type": "execute_result"
    }
   ],
   "source": [
    "groupby_pandas.index"
   ]
  },
  {
   "cell_type": "markdown",
   "metadata": {},
   "source": [
    "## Polars groupby"
   ]
  },
  {
   "cell_type": "code",
   "execution_count": 53,
   "metadata": {},
   "outputs": [],
   "source": [
    "dataset = pl.read_csv(path)"
   ]
  },
  {
   "cell_type": "code",
   "execution_count": 54,
   "metadata": {},
   "outputs": [],
   "source": [
    "groupby_polars = (dataset.lazy()\n",
    "                    .groupby([\"first_name\", \"party\"])\n",
    "                    .agg(\n",
    "                        [pl.count()\n",
    "                        ]\n",
    "                    )\n",
    "                    .sort('count', descending=True)\n",
    "                    .limit(5)\n",
    "                 )"
   ]
  },
  {
   "cell_type": "code",
   "execution_count": 64,
   "metadata": {},
   "outputs": [
    {
     "data": {
      "image/svg+xml": [
       "<svg xmlns=\"http://www.w3.org/2000/svg\" xmlns:xlink=\"http://www.w3.org/1999/xlink\" width=\"241pt\" height=\"222pt\" viewBox=\"0.00 0.00 241.00 222.00\">\n",
       "<g id=\"graph0\" class=\"graph\" transform=\"scale(1 1) rotate(0) translate(4 218)\">\n",
       "<title>polars_query</title>\n",
       "<polygon fill=\"white\" stroke=\"none\" points=\"-4,4 -4,-218 237,-218 237,4 -4,4\"/>\n",
       "<!-- SORT BY [col(&quot;count&quot;)] [(0, 0)] -->\n",
       "<g id=\"node1\" class=\"node\">\n",
       "<title>SORT BY [col(&quot;count&quot;)] [(0, 0)]</title>\n",
       "<polygon fill=\"none\" stroke=\"black\" points=\"192.5,-214 40.5,-214 40.5,-178 192.5,-178 192.5,-214\"/>\n",
       "<text text-anchor=\"middle\" x=\"116.5\" y=\"-192.3\" font-family=\"Times,serif\" font-size=\"14.00\">SORT BY [col(&quot;count&quot;)]</text>\n",
       "</g>\n",
       "<!-- AGG [count()]\n",
       "BY\n",
       "[col(&quot;first_name&quot;),col(&quot;party&quot;)] [(0, 1)] [(0, 1)] -->\n",
       "<g id=\"node2\" class=\"node\">\n",
       "<title>AGG [count()]\n",
       "BY\n",
       "[col(&quot;first_name&quot;),col(&quot;party&quot;)] [(0, 1)] [(0, 1)]</title>\n",
       "<polygon fill=\"none\" stroke=\"black\" points=\"233,-142 0,-142 0,-89 233,-89 233,-142\"/>\n",
       "<text text-anchor=\"middle\" x=\"116.5\" y=\"-126.8\" font-family=\"Times,serif\" font-size=\"14.00\">AGG [count()]</text>\n",
       "<text text-anchor=\"middle\" x=\"116.5\" y=\"-111.8\" font-family=\"Times,serif\" font-size=\"14.00\">BY</text>\n",
       "<text text-anchor=\"middle\" x=\"116.5\" y=\"-96.8\" font-family=\"Times,serif\" font-size=\"14.00\">[col(&quot;first_name&quot;),col(&quot;party&quot;)] [(0, 1)]</text>\n",
       "</g>\n",
       "<!-- SORT BY [col(&quot;count&quot;)] [(0, 0)]&#45;&#45;AGG [count()]\n",
       "BY\n",
       "[col(&quot;first_name&quot;),col(&quot;party&quot;)] [(0, 1)] [(0, 1)] -->\n",
       "<g id=\"edge1\" class=\"edge\">\n",
       "<title>SORT BY [col(&quot;count&quot;)] [(0, 0)]--AGG [count()]\n",
       "BY\n",
       "[col(&quot;first_name&quot;),col(&quot;party&quot;)] [(0, 1)] [(0, 1)]</title>\n",
       "<path fill=\"none\" stroke=\"black\" d=\"M116.5,-177.58C116.5,-167.19 116.5,-153.81 116.5,-142.22\"/>\n",
       "</g>\n",
       "<!-- TABLE\n",
       "π 2/36;\n",
       "σ &#45;; [(0, 2)] -->\n",
       "<g id=\"node3\" class=\"node\">\n",
       "<title>TABLE\n",
       "π 2/36;\n",
       "σ -; [(0, 2)]</title>\n",
       "<polygon fill=\"none\" stroke=\"black\" points=\"146.5,-53 86.5,-53 86.5,0 146.5,0 146.5,-53\"/>\n",
       "<text text-anchor=\"middle\" x=\"116.5\" y=\"-37.8\" font-family=\"Times,serif\" font-size=\"14.00\">TABLE</text>\n",
       "<text text-anchor=\"middle\" x=\"116.5\" y=\"-22.8\" font-family=\"Times,serif\" font-size=\"14.00\">π 2/36;</text>\n",
       "<text text-anchor=\"middle\" x=\"116.5\" y=\"-7.8\" font-family=\"Times,serif\" font-size=\"14.00\">σ -;</text>\n",
       "</g>\n",
       "<!-- AGG [count()]\n",
       "BY\n",
       "[col(&quot;first_name&quot;),col(&quot;party&quot;)] [(0, 1)] [(0, 1)]&#45;&#45;TABLE\n",
       "π 2/36;\n",
       "σ &#45;; [(0, 2)] -->\n",
       "<g id=\"edge2\" class=\"edge\">\n",
       "<title>AGG [count()]\n",
       "BY\n",
       "[col(&quot;first_name&quot;),col(&quot;party&quot;)] [(0, 1)] [(0, 1)]--TABLE\n",
       "π 2/36;\n",
       "σ -; [(0, 2)]</title>\n",
       "<path fill=\"none\" stroke=\"black\" d=\"M116.5,-88.87C116.5,-77.64 116.5,-64.49 116.5,-53.25\"/>\n",
       "</g>\n",
       "</g>\n",
       "</svg>"
      ],
      "text/plain": [
       "<IPython.core.display.SVG object>"
      ]
     },
     "metadata": {},
     "output_type": "display_data"
    }
   ],
   "source": [
    "groupby_polars.show_graph(optimized=True)"
   ]
  },
  {
   "cell_type": "code",
   "execution_count": 55,
   "metadata": {},
   "outputs": [],
   "source": [
    "groupby_polars_result = groupby_polars.collect()"
   ]
  },
  {
   "cell_type": "code",
   "execution_count": 57,
   "metadata": {},
   "outputs": [
    {
     "data": {
      "text/html": [
       "<div>\n",
       "<style>\n",
       ".pl-dataframe > thead > tr > th {\n",
       "  text-align: right;\n",
       "}\n",
       "</style>\n",
       "\n",
       "<table border=\"1\" class=\"dataframe pl-dataframe\">\n",
       "<small>shape: (5, 3)</small>\n",
       "<thead>\n",
       "<tr>\n",
       "<th>\n",
       "first_name\n",
       "</th>\n",
       "<th>\n",
       "party\n",
       "</th>\n",
       "<th>\n",
       "count\n",
       "</th>\n",
       "</tr>\n",
       "<tr>\n",
       "<td>\n",
       "str\n",
       "</td>\n",
       "<td>\n",
       "str\n",
       "</td>\n",
       "<td>\n",
       "u32\n",
       "</td>\n",
       "</tr>\n",
       "</thead>\n",
       "<tbody>\n",
       "<tr>\n",
       "<td>\n",
       "&quot;John&quot;\n",
       "</td>\n",
       "<td>\n",
       "&quot;Democrat&quot;\n",
       "</td>\n",
       "<td>\n",
       "526\n",
       "</td>\n",
       "</tr>\n",
       "<tr>\n",
       "<td>\n",
       "&quot;John&quot;\n",
       "</td>\n",
       "<td>\n",
       "&quot;Republican&quot;\n",
       "</td>\n",
       "<td>\n",
       "467\n",
       "</td>\n",
       "</tr>\n",
       "<tr>\n",
       "<td>\n",
       "&quot;William&quot;\n",
       "</td>\n",
       "<td>\n",
       "&quot;Democrat&quot;\n",
       "</td>\n",
       "<td>\n",
       "429\n",
       "</td>\n",
       "</tr>\n",
       "<tr>\n",
       "<td>\n",
       "&quot;William&quot;\n",
       "</td>\n",
       "<td>\n",
       "&quot;Republican&quot;\n",
       "</td>\n",
       "<td>\n",
       "394\n",
       "</td>\n",
       "</tr>\n",
       "<tr>\n",
       "<td>\n",
       "&quot;James&quot;\n",
       "</td>\n",
       "<td>\n",
       "&quot;Democrat&quot;\n",
       "</td>\n",
       "<td>\n",
       "339\n",
       "</td>\n",
       "</tr>\n",
       "</tbody>\n",
       "</table>\n",
       "</div>"
      ],
      "text/plain": [
       "shape: (5, 3)\n",
       "┌────────────┬────────────┬───────┐\n",
       "│ first_name ┆ party      ┆ count │\n",
       "│ ---        ┆ ---        ┆ ---   │\n",
       "│ str        ┆ str        ┆ u32   │\n",
       "╞════════════╪════════════╪═══════╡\n",
       "│ John       ┆ Democrat   ┆ 526   │\n",
       "│ John       ┆ Republican ┆ 467   │\n",
       "│ William    ┆ Democrat   ┆ 429   │\n",
       "│ William    ┆ Republican ┆ 394   │\n",
       "│ James      ┆ Democrat   ┆ 339   │\n",
       "└────────────┴────────────┴───────┘"
      ]
     },
     "execution_count": 57,
     "metadata": {},
     "output_type": "execute_result"
    }
   ],
   "source": [
    "groupby_polars_result"
   ]
  }
 ],
 "metadata": {
  "kernelspec": {
   "display_name": "Python 3 (ipykernel)",
   "language": "python",
   "name": "python3"
  },
  "language_info": {
   "codemirror_mode": {
    "name": "ipython",
    "version": 3
   },
   "file_extension": ".py",
   "mimetype": "text/x-python",
   "name": "python",
   "nbconvert_exporter": "python",
   "pygments_lexer": "ipython3",
   "version": "3.9.6"
  }
 },
 "nbformat": 4,
 "nbformat_minor": 1
}
